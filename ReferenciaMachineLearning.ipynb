{
  "nbformat": 4,
  "nbformat_minor": 0,
  "metadata": {
    "colab": {
      "provenance": [],
      "authorship_tag": "ABX9TyOoI7PCnqa5BMQzRTXTByEp",
      "include_colab_link": true
    },
    "kernelspec": {
      "name": "python3",
      "display_name": "Python 3"
    },
    "language_info": {
      "name": "python"
    }
  },
  "cells": [
    {
      "cell_type": "markdown",
      "metadata": {
        "id": "view-in-github",
        "colab_type": "text"
      },
      "source": [
        "<a href=\"https://colab.research.google.com/github/DarleyLeal/projetos_asimov_academy/blob/main/ReferenciaMachineLearning.ipynb\" target=\"_parent\"><img src=\"https://colab.research.google.com/assets/colab-badge.svg\" alt=\"Open In Colab\"/></a>"
      ]
    },
    {
      "cell_type": "markdown",
      "source": [
        "EXPLORANDO O DATASET"
      ],
      "metadata": {
        "id": "mwqMxpq81tlM"
      }
    },
    {
      "cell_type": "code",
      "execution_count": 3,
      "metadata": {
        "id": "qHYSz9pD1TB9"
      },
      "outputs": [],
      "source": [
        "import matplotlib.pyplot as plt\n",
        "import seaborn as sns\n",
        "import pandas as pd\n",
        "import numpy as np\n"
      ]
    },
    {
      "cell_type": "code",
      "source": [
        "from sklearn.datasets import fetch_openml\n",
        "\n",
        "mnist = fetch_openml('mnist_784', version=1)"
      ],
      "metadata": {
        "id": "KFRwW86S1yWG"
      },
      "execution_count": 4,
      "outputs": []
    },
    {
      "cell_type": "code",
      "source": [
        "mnist.keys()"
      ],
      "metadata": {
        "colab": {
          "base_uri": "https://localhost:8080/"
        },
        "id": "p49lIMVE2sCJ",
        "outputId": "9f95ae4c-f1f7-4e1c-bf09-98276b47d68f"
      },
      "execution_count": 5,
      "outputs": [
        {
          "output_type": "execute_result",
          "data": {
            "text/plain": [
              "dict_keys(['data', 'target', 'frame', 'categories', 'feature_names', 'target_names', 'DESCR', 'details', 'url'])"
            ]
          },
          "metadata": {},
          "execution_count": 5
        }
      ]
    },
    {
      "cell_type": "code",
      "source": [
        "dict_keys=(['data', 'target', 'frame', 'categories', 'features_names', 'target_names', 'DESCR', 'details', 'url'])\n"
      ],
      "metadata": {
        "id": "LctO0edw2vtA"
      },
      "execution_count": 6,
      "outputs": []
    },
    {
      "cell_type": "code",
      "source": [
        "x, y = mnist['data'].values, mnist['target'].values\n",
        "y = y.astype(np.float)"
      ],
      "metadata": {
        "id": "NQEV7x1S3SeP",
        "colab": {
          "base_uri": "https://localhost:8080/"
        },
        "outputId": "1a3dbdb9-c957-4829-b98f-9c9c27765d88"
      },
      "execution_count": 7,
      "outputs": [
        {
          "output_type": "stream",
          "name": "stderr",
          "text": [
            "<ipython-input-7-8057d662ae05>:2: DeprecationWarning: `np.float` is a deprecated alias for the builtin `float`. To silence this warning, use `float` by itself. Doing this will not modify any behavior and is safe. If you specifically wanted the numpy scalar type, use `np.float64` here.\n",
            "Deprecated in NumPy 1.20; for more details and guidance: https://numpy.org/devdocs/release/1.20.0-notes.html#deprecations\n",
            "  y = y.astype(np.float)\n"
          ]
        }
      ]
    },
    {
      "cell_type": "code",
      "source": [
        "x"
      ],
      "metadata": {
        "colab": {
          "base_uri": "https://localhost:8080/"
        },
        "id": "8n443sQB33GM",
        "outputId": "2afe440f-011c-4b04-f45e-0eb3fc1485dd"
      },
      "execution_count": null,
      "outputs": [
        {
          "output_type": "execute_result",
          "data": {
            "text/plain": [
              "array([[0., 0., 0., ..., 0., 0., 0.],\n",
              "       [0., 0., 0., ..., 0., 0., 0.],\n",
              "       [0., 0., 0., ..., 0., 0., 0.],\n",
              "       ...,\n",
              "       [0., 0., 0., ..., 0., 0., 0.],\n",
              "       [0., 0., 0., ..., 0., 0., 0.],\n",
              "       [0., 0., 0., ..., 0., 0., 0.]])"
            ]
          },
          "metadata": {},
          "execution_count": 16
        }
      ]
    },
    {
      "cell_type": "code",
      "source": [
        "y"
      ],
      "metadata": {
        "colab": {
          "base_uri": "https://localhost:8080/"
        },
        "id": "s6ColKj04lp9",
        "outputId": "b2db2d31-968b-4e79-9b3a-5fda0908739f"
      },
      "execution_count": null,
      "outputs": [
        {
          "output_type": "execute_result",
          "data": {
            "text/plain": [
              "array([5., 0., 4., ..., 4., 5., 6.])"
            ]
          },
          "metadata": {},
          "execution_count": 17
        }
      ]
    },
    {
      "cell_type": "code",
      "source": [
        "n = 3\n",
        "\n",
        "plt.imshow(x[n].reshape(28,28), cmap='binary')\n",
        "print(y[n])\n",
        "plt.show()"
      ],
      "metadata": {
        "colab": {
          "base_uri": "https://localhost:8080/",
          "height": 282
        },
        "id": "Odzd34_v4q-u",
        "outputId": "75d0bbd9-afa0-49e9-bac7-a567926d5c3a"
      },
      "execution_count": 8,
      "outputs": [
        {
          "output_type": "stream",
          "name": "stdout",
          "text": [
            "1.0\n"
          ]
        },
        {
          "output_type": "display_data",
          "data": {
            "text/plain": [
              "<Figure size 432x288 with 1 Axes>"
            ],
            "image/png": "[encoded data removed]"
          },
          "metadata": {
            "needs_background": "light"
          }
        }
      ]
    },
    {
      "cell_type": "markdown",
      "source": [
        "*CLASSIFICADOR BINÁRIO*"
      ],
      "metadata": {
        "id": "dIBux2LU5y2y"
      }
    },
    {
      "cell_type": "code",
      "source": [
        "from sklearn.model_selection import train_test_split\n",
        "\n",
        "\n",
        "x_train, x_test, y_train, y_test = train_test_split(x, y, test_size=0.3)\n"
      ],
      "metadata": {
        "id": "vp5cJWje5-I_"
      },
      "execution_count": 9,
      "outputs": []
    },
    {
      "cell_type": "code",
      "source": [
        "y_train_5 = (y_train == 5)\n"
      ],
      "metadata": {
        "id": "bOF_mrNL6iRY"
      },
      "execution_count": 10,
      "outputs": []
    },
    {
      "cell_type": "code",
      "source": [
        "pd.Series(y_train_5).value_counts()"
      ],
      "metadata": {
        "colab": {
          "base_uri": "https://localhost:8080/"
        },
        "id": "zm8Ly7ee67V9",
        "outputId": "2905f860-8537-4356-fcea-9dc1238f051e"
      },
      "execution_count": 11,
      "outputs": [
        {
          "output_type": "execute_result",
          "data": {
            "text/plain": [
              "False    44572\n",
              "True      4428\n",
              "dtype: int64"
            ]
          },
          "metadata": {},
          "execution_count": 11
        }
      ]
    },
    {
      "cell_type": "code",
      "source": [
        "from sklearn.linear_model import SGDClassifier\n",
        "\n",
        "\n",
        "sgd_clf = SGDClassifier()\n",
        "sgd_clf.fit(x_train, y_train_5)\n"
      ],
      "metadata": {
        "colab": {
          "base_uri": "https://localhost:8080/"
        },
        "id": "CHupTkqQ7hDW",
        "outputId": "bd5e37df-71b4-4a69-b676-ecce8d4c9f24"
      },
      "execution_count": 12,
      "outputs": [
        {
          "output_type": "execute_result",
          "data": {
            "text/plain": [
              "SGDClassifier()"
            ]
          },
          "metadata": {},
          "execution_count": 12
        }
      ]
    },
    {
      "cell_type": "code",
      "source": [
        "n = 3\n",
        "\n",
        "plt.imshow(x_train[n].reshape(28,28))\n",
        "print(\"Classe real: \", y_train_5[n])\n",
        "print(\"Classe predita pelo modelo:\", sgd_clf.predict([x_train[n]]))"
      ],
      "metadata": {
        "colab": {
          "base_uri": "https://localhost:8080/",
          "height": 300
        },
        "id": "1yZNbmB58sIH",
        "outputId": "9774a158-931a-4069-ee4c-6a6939967825"
      },
      "execution_count": 13,
      "outputs": [
        {
          "output_type": "stream",
          "name": "stdout",
          "text": [
            "Classe real:  False\n",
            "Classe predita pelo modelo: [False]\n"
          ]
        },
        {
          "output_type": "display_data",
          "data": {
            "text/plain": [
              "<Figure size 432x288 with 1 Axes>"
            ],
            "image/png": "[encoded data removed]"
          },
          "metadata": {
            "needs_background": "light"
          }
        }
      ]
    },
    {
      "cell_type": "code",
      "source": [
        "n = 5\n",
        "\n",
        "plt.imshow(x_train[n].reshape(28,28))\n",
        "print(\"Classe real: \", y_train_5[n])\n",
        "print(\"Classe predita pelo modelo:\", sgd_clf.predict([x_train[n]]))"
      ],
      "metadata": {
        "colab": {
          "base_uri": "https://localhost:8080/",
          "height": 300
        },
        "id": "35WfZWnc8_3x",
        "outputId": "3329a031-90fa-4345-b35d-01c24860073b"
      },
      "execution_count": null,
      "outputs": [
        {
          "output_type": "stream",
          "name": "stdout",
          "text": [
            "Classe real:  False\n",
            "Classe predita pelo modelo: [False]\n"
          ]
        },
        {
          "output_type": "display_data",
          "data": {
            "text/plain": [
              "<Figure size 432x288 with 1 Axes>"
            ],
            "image/png": "[encoded data removed]"
          },
          "metadata": {
            "needs_background": "light"
          }
        }
      ]
    },
    {
      "cell_type": "code",
      "source": [
        "n = 5\n",
        "\n",
        "plt.imshow(x_train[n].reshape(28,28))\n",
        "print(\"Classe real: \", y_train_5[n])\n",
        "print(\"Classe predita pelo modelo:\", sgd_clf.predict([x_train[n]]))"
      ],
      "metadata": {
        "colab": {
          "base_uri": "https://localhost:8080/",
          "height": 300
        },
        "id": "guEpyKQ59BNt",
        "outputId": "05b47d3c-7820-469b-8f05-214d0925a029"
      },
      "execution_count": null,
      "outputs": [
        {
          "output_type": "stream",
          "name": "stdout",
          "text": [
            "Classe real:  False\n",
            "Classe predita pelo modelo: [False]\n"
          ]
        },
        {
          "output_type": "display_data",
          "data": {
            "text/plain": [
              "<Figure size 432x288 with 1 Axes>"
            ],
            "image/png": "[encoded data removed]"
          },
          "metadata": {
            "needs_background": "light"
          }
        }
      ]
    },
    {
      "cell_type": "code",
      "source": [
        "n = 6\n",
        "\n",
        "plt.imshow(x_train[n].reshape(28,28))\n",
        "print(\"Classe real: \", y_train_5[n])\n",
        "print(\"Classe predita pelo modelo:\", sgd_clf.predict([x_train[n]]))"
      ],
      "metadata": {
        "colab": {
          "base_uri": "https://localhost:8080/",
          "height": 300
        },
        "id": "aiZMdfrj9C8Q",
        "outputId": "1c173501-d5e2-466b-f25c-f4c06728f5d8"
      },
      "execution_count": null,
      "outputs": [
        {
          "output_type": "stream",
          "name": "stdout",
          "text": [
            "Classe real:  False\n",
            "Classe predita pelo modelo: [False]\n"
          ]
        },
        {
          "output_type": "display_data",
          "data": {
            "text/plain": [
              "<Figure size 432x288 with 1 Axes>"
            ],
            "image/png": "[encoded data removed]"
          },
          "metadata": {
            "needs_background": "light"
          }
        }
      ]
    },
    {
      "cell_type": "code",
      "source": [
        "n = 8\n",
        "\n",
        "plt.imshow(x_train[n].reshape(28,28))\n",
        "print(\"Classe real: \", y_train_5[n])\n",
        "print(\"Classe predita pelo modelo:\", sgd_clf.predict([x_train[n]]))"
      ],
      "metadata": {
        "colab": {
          "base_uri": "https://localhost:8080/",
          "height": 300
        },
        "id": "ne9ecrGa9Ctz",
        "outputId": "128c2e29-161c-4680-ae42-e500263ef323"
      },
      "execution_count": null,
      "outputs": [
        {
          "output_type": "stream",
          "name": "stdout",
          "text": [
            "Classe real:  False\n",
            "Classe predita pelo modelo: [False]\n"
          ]
        },
        {
          "output_type": "display_data",
          "data": {
            "text/plain": [
              "<Figure size 432x288 with 1 Axes>"
            ],
            "image/png": "[encoded data removed]"
          },
          "metadata": {
            "needs_background": "light"
          }
        }
      ]
    },
    {
      "cell_type": "code",
      "source": [
        "n = 10\n",
        "\n",
        "plt.imshow(x_train[n].reshape(28,28))\n",
        "print(\"Classe real: \", y_train_5[n])\n",
        "print(\"Classe predita pelo modelo:\", sgd_clf.predict([x_train[n]]))"
      ],
      "metadata": {
        "colab": {
          "base_uri": "https://localhost:8080/",
          "height": 300
        },
        "id": "sG2qxAsc9CcI",
        "outputId": "b959750d-bc20-4789-be25-c6999b2e5c0d"
      },
      "execution_count": null,
      "outputs": [
        {
          "output_type": "stream",
          "name": "stdout",
          "text": [
            "Classe real:  False\n",
            "Classe predita pelo modelo: [False]\n"
          ]
        },
        {
          "output_type": "display_data",
          "data": {
            "text/plain": [
              "<Figure size 432x288 with 1 Axes>"
            ],
            "image/png": "[encoded data removed]"
          },
          "metadata": {
            "needs_background": "light"
          }
        }
      ]
    },
    {
      "cell_type": "code",
      "source": [
        "from sklearn.model_selection import cross_val_score\n",
        "cross_val_score(sgd_clf, x_train, y_train_5, cv=3, scoring='accuracy')"
      ],
      "metadata": {
        "colab": {
          "base_uri": "https://localhost:8080/"
        },
        "id": "WsWCWrwZLxta",
        "outputId": "52416030-1e21-4036-ce55-44975022936a"
      },
      "execution_count": 14,
      "outputs": [
        {
          "output_type": "execute_result",
          "data": {
            "text/plain": [
              "array([0.9607567 , 0.95989714, 0.95775424])"
            ]
          },
          "metadata": {},
          "execution_count": 14
        }
      ]
    },
    {
      "cell_type": "markdown",
      "source": [
        "MATRIZ DE CONFUSÃO "
      ],
      "metadata": {
        "id": "RUtyPSCLQ5d4"
      }
    },
    {
      "cell_type": "code",
      "source": [
        "from sklearn.metrics import confusion_matrix\n",
        "#Usado apenas em modelos de classificação\n",
        "\n",
        "\n",
        "confusion_matrix(y_train_5, sgd_clf.predict(x_train))\n"
      ],
      "metadata": {
        "id": "-BG5b9eHPIFF"
      },
      "execution_count": null,
      "outputs": []
    },
    {
      "cell_type": "code",
      "source": [
        "from sklearn.metrics import precision_score, recall_score\n",
        "y_train_pred = sgd_clf.predict(x_train)\n",
        "\n",
        "print(\"Precision\", precision_score(y_train_5, y_train_pred))\n",
        "print(\"Recall\", recall_score(y_train_5, y_train_pred))"
      ],
      "metadata": {
        "colab": {
          "base_uri": "https://localhost:8080/"
        },
        "id": "bUopCq8xUM1r",
        "outputId": "99f72089-720c-4013-8578-2776e9cdf691"
      },
      "execution_count": 20,
      "outputs": [
        {
          "output_type": "stream",
          "name": "stdout",
          "text": [
            "Precision 0.8130962705984388\n",
            "Recall 0.8468834688346883\n"
          ]
        }
      ]
    },
    {
      "cell_type": "code",
      "source": [
        "from sklearn.metrics import classification_report\n",
        "\n",
        "\n",
        "\n",
        "print(confusion_matrix(y_train_5, sgd_clf.predict(x_train)))\n",
        "print(classification_report(y_train_5, y_train_pred))"
      ],
      "metadata": {
        "colab": {
          "base_uri": "https://localhost:8080/"
        },
        "id": "t-rQNwBXTdqV",
        "outputId": "3bda2205-4f98-489e-c8ca-ce2974a15983"
      },
      "execution_count": 22,
      "outputs": [
        {
          "output_type": "stream",
          "name": "stdout",
          "text": [
            "[[43710   862]\n",
            " [  678  3750]]\n",
            "              precision    recall  f1-score   support\n",
            "\n",
            "       False       0.98      0.98      0.98     44572\n",
            "        True       0.81      0.85      0.83      4428\n",
            "\n",
            "    accuracy                           0.97     49000\n",
            "   macro avg       0.90      0.91      0.91     49000\n",
            "weighted avg       0.97      0.97      0.97     49000\n",
            "\n"
          ]
        }
      ]
    },
    {
      "cell_type": "markdown",
      "source": [
        "CLASSIFICAÇÃO MULTICLASSES"
      ],
      "metadata": {
        "id": "tXesI2dDW1nx"
      }
    },
    {
      "cell_type": "code",
      "source": [
        "sgd_clf.fit(x_train, y_train)\n",
        "\n",
        "SGDClassifier()"
      ],
      "metadata": {
        "colab": {
          "base_uri": "https://localhost:8080/"
        },
        "id": "aBtSM5WpWy9Y",
        "outputId": "826bf869-893f-448d-bd13-49e6dddf2231"
      },
      "execution_count": 24,
      "outputs": [
        {
          "output_type": "execute_result",
          "data": {
            "text/plain": [
              "SGDClassifier()"
            ]
          },
          "metadata": {},
          "execution_count": 24
        }
      ]
    },
    {
      "cell_type": "code",
      "source": [
        "n = 59\n",
        "digit = x_train[n]\n",
        "plt.imshow(digit.reshape(28,28))"
      ],
      "metadata": {
        "colab": {
          "base_uri": "https://localhost:8080/",
          "height": 282
        },
        "id": "kg_xuV70Xmqe",
        "outputId": "fab6eb84-1328-4a81-d0af-cf46a5381fa4"
      },
      "execution_count": 38,
      "outputs": [
        {
          "output_type": "execute_result",
          "data": {
            "text/plain": [
              "<matplotlib.image.AxesImage at 0x7f97f6cf8ca0>"
            ]
          },
          "metadata": {},
          "execution_count": 38
        },
        {
          "output_type": "display_data",
          "data": {
            "text/plain": [
              "<Figure size 432x288 with 1 Axes>"
            ],
            "image/png": "[encoded data removed]"
          },
          "metadata": {
            "needs_background": "light"
          }
        }
      ]
    },
    {
      "cell_type": "code",
      "source": [
        "sgd_clf.predict([digit])"
      ],
      "metadata": {
        "colab": {
          "base_uri": "https://localhost:8080/"
        },
        "id": "wsKZNtXCYP6j",
        "outputId": "37dfe823-e0d1-446a-9adf-4df0bb0907b2"
      },
      "execution_count": 37,
      "outputs": [
        {
          "output_type": "execute_result",
          "data": {
            "text/plain": [
              "array([4.])"
            ]
          },
          "metadata": {},
          "execution_count": 37
        }
      ]
    },
    {
      "cell_type": "code",
      "source": [
        "from sklearn.model_selection import cross_val_predict\n",
        "y_train_pred = cross_val_predict(sgd_clf, x_train, y_train, cv=3)"
      ],
      "metadata": {
        "id": "YF-B1sjfbki7"
      },
      "execution_count": 39,
      "outputs": []
    },
    {
      "cell_type": "code",
      "source": [
        "conf_mx = confusion_matrix(y_train, y_train_pred)\n",
        "print(conf_mx)\n",
        "print(classification_report(y_train, y_train_pred))"
      ],
      "metadata": {
        "colab": {
          "base_uri": "https://localhost:8080/"
        },
        "id": "qi18QtMicIRG",
        "outputId": "f2913ada-3377-4417-95c0-392110b46b41"
      },
      "execution_count": 40,
      "outputs": [
        {
          "output_type": "stream",
          "name": "stdout",
          "text": [
            "[[4685    1   31   12   17   26   24    5   69    6]\n",
            " [   3 5317   31   12   19   33    8    8  109    6]\n",
            " [  54   61 4180   81   65   24   72   48  269   14]\n",
            " [  39   22  229 3994   25  234   20   40  334   83]\n",
            " [  23   26   45   21 4132   13   56   20  259  142]\n",
            " [  85   20   61  124  107 3533   75   19  344   60]\n",
            " [  57   22   88    6   39  103 4390    2   93    1]\n",
            " [  23   25   86   24   61   27    7 4531   93  243]\n",
            " [  46   93  142   92   82  194   21   20 4001   75]\n",
            " [  33   29   42   38  347  117    1  149  483 3599]]\n",
            "              precision    recall  f1-score   support\n",
            "\n",
            "         0.0       0.93      0.96      0.94      4876\n",
            "         1.0       0.95      0.96      0.95      5546\n",
            "         2.0       0.85      0.86      0.85      4868\n",
            "         3.0       0.91      0.80      0.85      5020\n",
            "         4.0       0.84      0.87      0.86      4737\n",
            "         5.0       0.82      0.80      0.81      4428\n",
            "         6.0       0.94      0.91      0.93      4801\n",
            "         7.0       0.94      0.88      0.91      5120\n",
            "         8.0       0.66      0.84      0.74      4766\n",
            "         9.0       0.85      0.74      0.79      4838\n",
            "\n",
            "    accuracy                           0.86     49000\n",
            "   macro avg       0.87      0.86      0.86     49000\n",
            "weighted avg       0.87      0.86      0.87     49000\n",
            "\n"
          ]
        }
      ]
    },
    {
      "cell_type": "code",
      "source": [
        "fig, ax = plt.subplots(figsize=(15,8))\n",
        "sns.heatmap(conf_mx, annot=True, fmt=\".0f\")"
      ],
      "metadata": {
        "colab": {
          "base_uri": "https://localhost:8080/",
          "height": 500
        },
        "id": "9FWVhs_jdTEa",
        "outputId": "39081ce6-feec-443e-ef81-4b702f076881"
      },
      "execution_count": 42,
      "outputs": [
        {
          "output_type": "execute_result",
          "data": {
            "text/plain": [
              "<matplotlib.axes._subplots.AxesSubplot at 0x7f978eb51c40>"
            ]
          },
          "metadata": {},
          "execution_count": 42
        },
        {
          "output_type": "display_data",
          "data": {
            "text/plain": [
              "<Figure size 1080x576 with 2 Axes>"
            ],
            "image/png": "[encoded data removed]"
          },
          "metadata": {
            "needs_background": "light"
          }
        }
      ]
    },
    {
      "cell_type": "markdown",
      "source": [
        "CLASSIFICAÇÃO MULTILABEL"
      ],
      "metadata": {
        "id": "upvD_cQ4eyv2"
      }
    },
    {
      "cell_type": "code",
      "source": [
        "from sklearn.neighbors import KNeighborsClassifier\n",
        "\n",
        "y_train_large = (y_train >= 7)\n",
        "y_train_odd = (y_train % 2 == 1)\n",
        "y_multilabel = np.c_[y_train_large, y_train_odd]\n",
        "\n",
        "knn_clf = KNeighborsClassifier()\n",
        "knn_clf.fit(x_train, y_multilabel)\n",
        "\n",
        "KNeighborsClassifier()"
      ],
      "metadata": {
        "colab": {
          "base_uri": "https://localhost:8080/"
        },
        "id": "k35c5DoHexy9",
        "outputId": "98cb39aa-80a4-4c68-f94b-077266f91656"
      },
      "execution_count": 43,
      "outputs": [
        {
          "output_type": "execute_result",
          "data": {
            "text/plain": [
              "KNeighborsClassifier()"
            ]
          },
          "metadata": {},
          "execution_count": 43
        }
      ]
    },
    {
      "cell_type": "code",
      "source": [
        "n = 2\n",
        "\n",
        "digit = x_train[n]\n",
        "plt.imshow(digit.reshape(28, 28))"
      ],
      "metadata": {
        "colab": {
          "base_uri": "https://localhost:8080/",
          "height": 282
        },
        "id": "Lfw2HQREj86r",
        "outputId": "ed951413-6fb3-41f8-a419-5f248170b599"
      },
      "execution_count": 46,
      "outputs": [
        {
          "output_type": "execute_result",
          "data": {
            "text/plain": [
              "<matplotlib.image.AxesImage at 0x7f97f2090f40>"
            ]
          },
          "metadata": {},
          "execution_count": 46
        },
        {
          "output_type": "display_data",
          "data": {
            "text/plain": [
              "<Figure size 432x288 with 1 Axes>"
            ],
            "image/png": "[encoded data removed]"
          },
          "metadata": {
            "needs_background": "light"
          }
        }
      ]
    },
    {
      "cell_type": "code",
      "source": [
        "knn_clf.predict([digit])"
      ],
      "metadata": {
        "colab": {
          "base_uri": "https://localhost:8080/"
        },
        "id": "Mpmmyd7tkTnP",
        "outputId": "4aa19ded-7ae4-4fe7-82f5-0a62dff4c6a3"
      },
      "execution_count": 47,
      "outputs": [
        {
          "output_type": "execute_result",
          "data": {
            "text/plain": [
              "array([[False,  True]])"
            ]
          },
          "metadata": {},
          "execution_count": 47
        }
      ]
    }
  ]
}